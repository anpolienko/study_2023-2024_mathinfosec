{
 "cells": [
  {
   "cell_type": "code",
   "execution_count": 13,
   "id": "258884ee",
   "metadata": {},
   "outputs": [
    {
     "name": "stdout",
     "output_type": "stream",
     "text": [
      "Введите сообщение:ПРИКАЗ\n",
      "Введите ключ:ГАММА\n",
      "УСХЧБЛ\n"
     ]
    }
   ],
   "source": [
    "alpha = ' АБВГДЕЖЗИЙКЛМНОПРСТУФХЦЧШЩЪЫЬЭЮЯ'\n",
    "message = input(\"Введите сообщение:\")\n",
    "key = input(\"Введите ключ:\")\n",
    "\n",
    "#уравнивание ключа с сообщением\n",
    "i = 0\n",
    "while len(message) != len(key):\n",
    "    key += key[i]\n",
    "    i += 1\n",
    "    \n",
    "#печать результата\n",
    "res = ''\n",
    "for i in range(len(message)):\n",
    "    res += alpha[(alpha.index(message[i]) + alpha.index(key[i])) \n",
    "                 % (len(alpha) - 1)]\n",
    "print(res)"
   ]
  },
  {
   "cell_type": "code",
   "execution_count": null,
   "id": "0455a175",
   "metadata": {},
   "outputs": [],
   "source": []
  }
 ],
 "metadata": {
  "kernelspec": {
   "display_name": "Python 3 (ipykernel)",
   "language": "python",
   "name": "python3"
  },
  "language_info": {
   "codemirror_mode": {
    "name": "ipython",
    "version": 3
   },
   "file_extension": ".py",
   "mimetype": "text/x-python",
   "name": "python",
   "nbconvert_exporter": "python",
   "pygments_lexer": "ipython3",
   "version": "3.8.8"
  }
 },
 "nbformat": 4,
 "nbformat_minor": 5
}
