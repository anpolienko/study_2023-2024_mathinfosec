{
 "cells": [
  {
   "cell_type": "markdown",
   "id": "01b2e4b1",
   "metadata": {},
   "source": [
    "### Маршрутное шифрование"
   ]
  },
  {
   "cell_type": "code",
   "execution_count": 24,
   "id": "f8aee566",
   "metadata": {},
   "outputs": [
    {
     "name": "stdout",
     "output_type": "stream",
     "text": [
      "Введите сообщение: нельзя недооценивать противника\n",
      "Введите пароль: пароль\n",
      "Зашифрованное сообщение: еенпнзоатаьовокннеьвлдирияцтиа\n"
     ]
    }
   ],
   "source": [
    "# ввод данных\n",
    "message = input(\"Введите сообщение: \").replace(' ', '')\n",
    "password = input(\"Введите пароль: \")\n",
    "m = len(message)\n",
    "n = len(password)\n",
    "message += ((m % n)*n - m) * message[-1]\n",
    "main_table = list()\n",
    "\n",
    "#формирование таблицы\n",
    "for i in range(m % n):\n",
    "    main_table.append(list(message[(i*n): ((i+1)*n)]))\n",
    "\n",
    "# Выбор порядка столбцов\n",
    "sort_password = sorted(list(password))\n",
    "list_index = list()\n",
    "for i in sort_password:\n",
    "    list_index.append(password.find(i))\n",
    "    \n",
    "# Шифрование сообщения    \n",
    "coded_message = ''\n",
    "for i in list_index:\n",
    "    for j in range(len(main_table)):\n",
    "        coded_message += main_table[j][i]\n",
    "print(\"Зашифрованное сообщение:\", coded_message)"
   ]
  },
  {
   "cell_type": "markdown",
   "id": "f1e17d49",
   "metadata": {},
   "source": [
    "### Шифрование с помощью решёток"
   ]
  },
  {
   "cell_type": "code",
   "execution_count": 27,
   "id": "3c5431d8",
   "metadata": {},
   "outputs": [],
   "source": [
    "import numpy as np"
   ]
  },
  {
   "cell_type": "code",
   "execution_count": 60,
   "id": "12f04d93",
   "metadata": {},
   "outputs": [
    {
     "name": "stdout",
     "output_type": "stream",
     "text": [
      "Введите число k: 2\n",
      "Введите сообщение: договор подписали\n",
      "Введите пароль длины k^2 без повторяющихся букв: шифр\n",
      "Зашифрованное сообщение: олпрдигпаооосдви\n"
     ]
    }
   ],
   "source": [
    "# ввод данных\n",
    "k = int(input('Введите число k: '))\n",
    "message = input(\"Введите сообщение: \").replace(' ', '')\n",
    "password = input(\"Введите пароль длины k^2 без повторяющихся букв: \")\n",
    "m = len(message)\n",
    "message += (k**2 - m) * message[-1]\n",
    "\n",
    "#формирование решётки\n",
    "l = np.arange(k**2).reshape(k, k) + 1\n",
    "table = np.hstack([np.vstack([l, np.rot90(l)]), np.vstack([np.rot90(l, k=3), np.rot90(l, k=2)])])\n",
    "for i in range(k**2):\n",
    "    r_index = np.random.randint(4)\n",
    "    a = np.where(table == (i+1))[0][r_index]\n",
    "    b = np.where(table == (i+1))[1][r_index]\n",
    "    table[a][b] = 0\n",
    "\n",
    "table1 = table; table2 = np.rot90(table, k=3); table3 = np.rot90(table, k=2); table4 = np.rot90(table)\n",
    "index_1 = np.where(table1 == 0); index_2 = np.where(table2 == 0); index_3 = np.where(table3 == 0); \n",
    "index_4 = np.where(table4 == 0)\n",
    "index = np.hstack([index_1, index_2, index_3, index_4])\n",
    "coded_table = np.empty((2*k, 2*k), dtype=\"object\")\n",
    "\n",
    "# Шифрование сообщения \n",
    "for i in range(4):\n",
    "    for j in range(k**2):\n",
    "        coded_table[index[0][(k**2)*i + j]][index[1][(k**2)*i + j]] = message[(k**2)*i + j]\n",
    "sort_password = sorted(list(password))\n",
    "list_index = list()\n",
    "for i in sort_password:\n",
    "    list_index.append(password.find(i))   \n",
    "coded_message = ''\n",
    "for i in list_index:\n",
    "    for j in range(len(coded_table)):\n",
    "        coded_message += coded_table[j][i]\n",
    "print(\"Зашифрованное сообщение:\", coded_message)"
   ]
  },
  {
   "cell_type": "markdown",
   "id": "732efa1d",
   "metadata": {},
   "source": [
    "### Таблица Виженера"
   ]
  },
  {
   "cell_type": "code",
   "execution_count": 68,
   "id": "3daabb01",
   "metadata": {},
   "outputs": [
    {
     "name": "stdout",
     "output_type": "stream",
     "text": [
      "Введите сообщение: криптография серьёзная наука\n",
      "Введите пароль: математика\n",
      "Зашифрованное сообщение: чрыфяохщкфхядйэьшршалнтшча\n"
     ]
    }
   ],
   "source": [
    "# ввод данных\n",
    "alpha = 'абвгдеёжзийклмнопрстуфхцчшщъыьэюя'\n",
    "message = input(\"Введите сообщение: \").replace(' ', '')\n",
    "password = input(\"Введите пароль: \")\n",
    "\n",
    "#уравнивание пароля с сообщением\n",
    "i = 0\n",
    "while len(message) != len(password):\n",
    "    password += password[i]\n",
    "    i += 1\n",
    "\n",
    "# Шифрование сообщения \n",
    "coded_message = ''\n",
    "for i in range(m):\n",
    "    ch1 = message[i]\n",
    "    ch2 = password[i]\n",
    "    ch3 = alpha[(alpha.index(ch1) + alpha.index(ch2)) % n]\n",
    "    coded_message += ch3\n",
    "print(\"Зашифрованное сообщение:\",coded_message)"
   ]
  },
  {
   "cell_type": "code",
   "execution_count": null,
   "id": "227fa386",
   "metadata": {},
   "outputs": [],
   "source": []
  }
 ],
 "metadata": {
  "kernelspec": {
   "display_name": "Python 3 (ipykernel)",
   "language": "python",
   "name": "python3"
  },
  "language_info": {
   "codemirror_mode": {
    "name": "ipython",
    "version": 3
   },
   "file_extension": ".py",
   "mimetype": "text/x-python",
   "name": "python",
   "nbconvert_exporter": "python",
   "pygments_lexer": "ipython3",
   "version": "3.8.8"
  }
 },
 "nbformat": 4,
 "nbformat_minor": 5
}
