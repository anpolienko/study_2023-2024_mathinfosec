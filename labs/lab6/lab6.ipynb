{
 "cells": [
  {
   "cell_type": "code",
   "execution_count": 10,
   "id": "f203eabb",
   "metadata": {},
   "outputs": [
    {
     "name": "stdout",
     "output_type": "stream",
     "text": [
      "Нетривиальный делитель числа: 1181\n"
     ]
    }
   ],
   "source": [
    "import numpy as np\n",
    "\n",
    "\n",
    "def f(x, n):\n",
    "    return (x**2 + 5) % n\n",
    "n = 1359331\n",
    "a = 1; b = 1\n",
    "d = 1\n",
    "while d == 1:\n",
    "    a = f(a, n)\n",
    "    b = f(f(b, n), n)\n",
    "    d = np.gcd(a - b, n)\n",
    "if d == n:\n",
    "    print(\"Делитель не найден\")\n",
    "else: \n",
    "    print(\"Нетривиальный делитель числа:\", d)"
   ]
  }
 ],
 "metadata": {
  "kernelspec": {
   "display_name": "Python 3 (ipykernel)",
   "language": "python",
   "name": "python3"
  },
  "language_info": {
   "codemirror_mode": {
    "name": "ipython",
    "version": 3
   },
   "file_extension": ".py",
   "mimetype": "text/x-python",
   "name": "python",
   "nbconvert_exporter": "python",
   "pygments_lexer": "ipython3",
   "version": "3.8.8"
  }
 },
 "nbformat": 4,
 "nbformat_minor": 5
}
