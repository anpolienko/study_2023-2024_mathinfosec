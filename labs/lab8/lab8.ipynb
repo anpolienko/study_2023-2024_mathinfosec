{
 "cells": [
  {
   "cell_type": "code",
   "execution_count": 40,
   "id": "953ae454",
   "metadata": {},
   "outputs": [
    {
     "name": "stdout",
     "output_type": "stream",
     "text": [
      "[0, 8, 0, 2, 3, 5]\n"
     ]
    }
   ],
   "source": [
    "b = 10\n",
    "n = 5\n",
    "u = [1, 2, 3, 4, 5]\n",
    "v = [6, 7, 8, 9, 0]\n",
    "w = [0]*(n + 1)\n",
    "\n",
    "k = 0\n",
    "for j in range(n-1, -1, -1):\n",
    "    w[j + 1] = (u[j] + v[j] + k) % b\n",
    "    k = (u[j] + v[j] + k) // b\n",
    "\n",
    "w[0] = k\n",
    "print(w)"
   ]
  },
  {
   "cell_type": "code",
   "execution_count": 5,
   "id": "c0a892de",
   "metadata": {},
   "outputs": [
    {
     "name": "stdout",
     "output_type": "stream",
     "text": [
      "[5, 5, 5, 4, 5]\n"
     ]
    }
   ],
   "source": [
    "b = 10\n",
    "n = 5\n",
    "u = [6, 7, 8, 9, 0]\n",
    "v = [1, 2, 3, 4, 5]\n",
    "w = [0]*n\n",
    "\n",
    "k = 0\n",
    "for j in range(n-1, -1, -1):\n",
    "    w[j] = (u[j] - v[j] + k) % b\n",
    "    k = (u[j] - v[j] + k) // b\n",
    "\n",
    "print(w)"
   ]
  },
  {
   "cell_type": "code",
   "execution_count": 23,
   "id": "1baa8eb5",
   "metadata": {},
   "outputs": [
    {
     "name": "stdout",
     "output_type": "stream",
     "text": [
      "[0, 1, 5, 1, 8, 4, 3, 5]\n"
     ]
    }
   ],
   "source": [
    "b = 10\n",
    "n = 5\n",
    "u = [1, 2, 3, 4, 5]\n",
    "m = 3\n",
    "v = [1, 2, 3]\n",
    "w = [0]*(m + n)\n",
    "\n",
    "for j in range(m-1, -1, -1):\n",
    "    if v[j] == 0:\n",
    "        w[j] = 0\n",
    "    else:\n",
    "        k = 0\n",
    "        for i in range(n-1, -1, -1):\n",
    "            t = u[i] * v[j] + w[i + j + 1] + k\n",
    "            w[i + j + 1] = t % b\n",
    "            k = t // b\n",
    "            w [j] = k\n",
    "\n",
    "print(w)"
   ]
  },
  {
   "cell_type": "code",
   "execution_count": 38,
   "id": "bfc9580d",
   "metadata": {},
   "outputs": [
    {
     "name": "stdout",
     "output_type": "stream",
     "text": [
      "[0, 1, 5, 1, 8, 4, 3, 5]\n"
     ]
    }
   ],
   "source": [
    "b = 10\n",
    "n = 4\n",
    "u = [1, 2, 3, 4, 5]\n",
    "m = 2\n",
    "v = [1, 2, 3]\n",
    "w = [0]*(len(u) + len(v))\n",
    "\n",
    "t = 0\n",
    "for s in range(m + n + 2):\n",
    "    for i in range(s + 1):\n",
    "        if (n - i < 0) or (m - s + i < 0):\n",
    "            t = t\n",
    "        else:\n",
    "            t = t + u[n - i] * v[m - s + i]\n",
    "    w[m + n - s + 1] = t % b\n",
    "    t = t // b\n",
    "\n",
    "print(w)"
   ]
  },
  {
   "cell_type": "code",
   "execution_count": 3,
   "id": "70c638ff",
   "metadata": {},
   "outputs": [
    {
     "name": "stdout",
     "output_type": "stream",
     "text": [
      "q = [1, 0, 0]\n",
      "r = 45\n"
     ]
    }
   ],
   "source": [
    "b = 10\n",
    "u = 12345\n",
    "v = 123\n",
    "n = 5\n",
    "t = 3\n",
    "\n",
    "q = [0] * (n - t + 1)\n",
    "r = [0] * (t + 1)\n",
    "\n",
    "while u >= (v * b ** (n - t)):\n",
    "    q[n - t] += 1\n",
    "    u -= v * b ** (n - t)\n",
    "\n",
    "for i in range(n, t+2, -1):\n",
    "    if u[i] >= v[t]:\n",
    "        q[i-t-1] = b - 1\n",
    "    else:\n",
    "        q[i-t-1] = (u[i] * b + u[i - 1]) // v[t]\n",
    "    while q[i-t-1] * (v[t] * b + v[t-1]) > u[i] * b^2 + u[i-1] * b + u[i-2]:\n",
    "        q[i-t-1] -= 1\n",
    "    u -= q[i-t-1] * (b ** (i-t-1)) * v\n",
    "    if u < 0:\n",
    "        u += v * (b ** (i - t -1))\n",
    "        q[i-t-1] -= 1\n",
    "r = u\n",
    "print(\"q =\", q[::-1])\n",
    "print(\"r =\", r)"
   ]
  },
  {
   "cell_type": "code",
   "execution_count": null,
   "id": "5d4ac5d0",
   "metadata": {},
   "outputs": [],
   "source": []
  }
 ],
 "metadata": {
  "kernelspec": {
   "display_name": "Python 3 (ipykernel)",
   "language": "python",
   "name": "python3"
  },
  "language_info": {
   "codemirror_mode": {
    "name": "ipython",
    "version": 3
   },
   "file_extension": ".py",
   "mimetype": "text/x-python",
   "name": "python",
   "nbconvert_exporter": "python",
   "pygments_lexer": "ipython3",
   "version": "3.8.8"
  }
 },
 "nbformat": 4,
 "nbformat_minor": 5
}
