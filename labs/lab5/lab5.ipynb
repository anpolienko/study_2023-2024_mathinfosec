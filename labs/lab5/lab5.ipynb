{
 "cells": [
  {
   "cell_type": "code",
   "execution_count": 1,
   "id": "f9803b46",
   "metadata": {},
   "outputs": [],
   "source": [
    "import numpy as np"
   ]
  },
  {
   "cell_type": "code",
   "execution_count": 3,
   "id": "27936a63",
   "metadata": {
    "scrolled": true
   },
   "outputs": [
    {
     "name": "stdout",
     "output_type": "stream",
     "text": [
      "51\n",
      "число n составное\n"
     ]
    }
   ],
   "source": [
    "# алгоритм, реализующий тест ферма\n",
    "\n",
    "n = int(input()) #>5\n",
    "a = np.random.randint(2, n-2)\n",
    "r = a ** (n - 1) % n\n",
    "if r == 1:\n",
    "    print(\"число n. вероятно, простое\")\n",
    "else:\n",
    "    print(\"число n составное\")"
   ]
  },
  {
   "cell_type": "code",
   "execution_count": 12,
   "id": "6584942e",
   "metadata": {},
   "outputs": [
    {
     "name": "stdout",
     "output_type": "stream",
     "text": [
      "7\n",
      "3\n"
     ]
    },
    {
     "data": {
      "text/plain": [
       "-1"
      ]
     },
     "execution_count": 12,
     "metadata": {},
     "output_type": "execute_result"
    }
   ],
   "source": [
    "# алгоритм вычисления символа Якоби\n",
    "\n",
    "def ka(a):\n",
    "    k = 0\n",
    "    while a % 2 == 0:\n",
    "        k += 1\n",
    "        a /= 2\n",
    "    return k, a\n",
    "\n",
    "def jacobi(n, a):\n",
    "    g = 1\n",
    "    while True:\n",
    "        if a == 0:\n",
    "            return 0\n",
    "        if a == 1:\n",
    "            return g\n",
    "        k, a_1 = ka(a)\n",
    "        if k % 2 == 0:\n",
    "            s = 1\n",
    "        else:\n",
    "            if n % 8 == 1 or n % 8 == -1:\n",
    "                s = 1\n",
    "            elif n % 8 == 3 or n % 8 == -3:\n",
    "                s = -1\n",
    "        if a_1 == 1:\n",
    "            return g * s\n",
    "        if n % 4 == 3 and a_1 % 4 == 3:\n",
    "            s = -s\n",
    "        a = n % a_1 \n",
    "        n = a_1\n",
    "        g = g * s  \n",
    "\n",
    "n = int(input()) #>3 нечётное\n",
    "a = int(input()) #0<a<n\n",
    "jacobi(n, a)"
   ]
  },
  {
   "cell_type": "code",
   "execution_count": 18,
   "id": "feed9ebf",
   "metadata": {
    "scrolled": true
   },
   "outputs": [
    {
     "name": "stdout",
     "output_type": "stream",
     "text": [
      "7\n",
      "число n, вероятно, простое\n"
     ]
    }
   ],
   "source": [
    "# алгоритм реализующий тест соловэя-штрассена\n",
    "\n",
    "n = int(input()) #>=5 нечётное\n",
    "a = np.random.randint(2, n-2)\n",
    "r = a ** ((n - 1)/2) % n\n",
    "if r != 1 and r != (n-1):\n",
    "    print(\"Число n составное\")\n",
    "else:\n",
    "    s = jacobi(n, a)\n",
    "    if r % n == s:\n",
    "        print(\"число n составное\")\n",
    "    else:\n",
    "        print(\"число n, вероятно, простое\")"
   ]
  },
  {
   "cell_type": "code",
   "execution_count": 25,
   "id": "8b108107",
   "metadata": {
    "scrolled": true
   },
   "outputs": [
    {
     "name": "stdout",
     "output_type": "stream",
     "text": [
      "51\n",
      "Число n составное\n"
     ]
    }
   ],
   "source": [
    "# алгоритм реализующий тест миллера-рабина\n",
    "\n",
    "n = int(input()) #>=5 нечётное\n",
    "s, r = ka(n - 1)\n",
    "a = np.random.randint(2, n-2)\n",
    "y = a ** r % n\n",
    "flag = False\n",
    "if y != 1 and y != (n - 1):\n",
    "    j = 1\n",
    "    while j <= (s - 1) and y != (n - 1):\n",
    "        y = y ** 2 % n\n",
    "        if y == 1:\n",
    "            flag = True\n",
    "        j += 1\n",
    "    if y != (n - 1):\n",
    "        flag = True\n",
    "if flag:\n",
    "    print(\"Число n составное\")\n",
    "else:\n",
    "    print(\"Число n, вероятно, простое\")"
   ]
  },
  {
   "cell_type": "code",
   "execution_count": null,
   "id": "5c7a52cb",
   "metadata": {},
   "outputs": [],
   "source": []
  },
  {
   "cell_type": "code",
   "execution_count": null,
   "id": "7610de07",
   "metadata": {},
   "outputs": [],
   "source": []
  }
 ],
 "metadata": {
  "kernelspec": {
   "display_name": "Python 3 (ipykernel)",
   "language": "python",
   "name": "python3"
  },
  "language_info": {
   "codemirror_mode": {
    "name": "ipython",
    "version": 3
   },
   "file_extension": ".py",
   "mimetype": "text/x-python",
   "name": "python",
   "nbconvert_exporter": "python",
   "pygments_lexer": "ipython3",
   "version": "3.8.8"
  }
 },
 "nbformat": 4,
 "nbformat_minor": 5
}
