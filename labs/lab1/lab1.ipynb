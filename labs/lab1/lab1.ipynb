{
 "cells": [
  {
   "cell_type": "markdown",
   "id": "31bf9c2e",
   "metadata": {},
   "source": [
    "**Шифр Цезаря**"
   ]
  },
  {
   "cell_type": "code",
   "execution_count": 15,
   "id": "94dca06e",
   "metadata": {},
   "outputs": [
    {
     "name": "stdout",
     "output_type": "stream",
     "text": [
      "3\n",
      "ИНФОРМАЦИОННАЯ БЕЗОПАСНОСТЬ\n",
      "ЛРЧСУПГЩЛСРРГВ ДЗКСТГФРСФХЯ\n"
     ]
    }
   ],
   "source": [
    "alpha = 'АБВГДЕЁЖЗИЙКЛМНОПРСТУФХЦЧШЩЪЫЬЭЮЯ'\n",
    "k = int(input())  #шаг шифровки\n",
    "message = input().split()\n",
    "res = list()\n",
    "for word in message:\n",
    "    res_word = ''\n",
    "    for c in word:\n",
    "        res_word += alpha[(alpha.index(c) + k) % len(alpha)]\n",
    "    res.append(res_word)\n",
    "print(*res)"
   ]
  },
  {
   "cell_type": "markdown",
   "id": "32d676d8",
   "metadata": {},
   "source": [
    "**Шифр Атбаш**"
   ]
  },
  {
   "cell_type": "code",
   "execution_count": 18,
   "id": "71500802",
   "metadata": {},
   "outputs": [
    {
     "name": "stdout",
     "output_type": "stream",
     "text": [
      "информационная безопасность\n",
      "чтлспу йчстт баяышср отсонд\n"
     ]
    }
   ],
   "source": [
    "alpha = 'абвгдеёжзийклмнопрстуфхцчшщъыьэюя '\n",
    "message = input()\n",
    "res = ''\n",
    "for c in message:\n",
    "    res += alpha[len(alpha) - alpha.index(c) - 1]\n",
    "print(res)"
   ]
  },
  {
   "cell_type": "code",
   "execution_count": null,
   "id": "42b36403",
   "metadata": {},
   "outputs": [],
   "source": []
  }
 ],
 "metadata": {
  "kernelspec": {
   "display_name": "Python 3 (ipykernel)",
   "language": "python",
   "name": "python3"
  },
  "language_info": {
   "codemirror_mode": {
    "name": "ipython",
    "version": 3
   },
   "file_extension": ".py",
   "mimetype": "text/x-python",
   "name": "python",
   "nbconvert_exporter": "python",
   "pygments_lexer": "ipython3",
   "version": "3.8.8"
  }
 },
 "nbformat": 4,
 "nbformat_minor": 5
}
