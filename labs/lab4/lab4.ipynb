{
 "cells": [
  {
   "cell_type": "markdown",
   "id": "647bd449",
   "metadata": {},
   "source": [
    "# Алгоритм Евклида"
   ]
  },
  {
   "cell_type": "code",
   "execution_count": 7,
   "id": "cd5c6af9",
   "metadata": {},
   "outputs": [
    {
     "name": "stdout",
     "output_type": "stream",
     "text": [
      "48\n",
      "36\n",
      "НОД(48, 36) = 12\n"
     ]
    }
   ],
   "source": [
    "a = int(input())\n",
    "b = int(input())\n",
    "gcd = -1\n",
    "\n",
    "r_0 = a; r_1 = b\n",
    "r_2 = -1\n",
    "while r_2 != 0:\n",
    "    gcd = r_2\n",
    "    r_2 = r_0 % r_1\n",
    "    r_0 = r_1\n",
    "    r_1 = r_2\n",
    "print(\"НОД(\", a, \", \", b, \") = \", gcd, sep='')"
   ]
  },
  {
   "cell_type": "markdown",
   "id": "7152fe00",
   "metadata": {},
   "source": [
    "# Бинарный алгоритм Евклида"
   ]
  },
  {
   "cell_type": "code",
   "execution_count": 9,
   "id": "a96fbe1b",
   "metadata": {},
   "outputs": [
    {
     "name": "stdout",
     "output_type": "stream",
     "text": [
      "48\n",
      "36\n",
      "НОД(48, 36) = 12\n"
     ]
    }
   ],
   "source": [
    "a_0 = int(input())\n",
    "b_0 = int(input())\n",
    "gcd = -1\n",
    "\n",
    "a = a_0\n",
    "b = b_0\n",
    "g = 1\n",
    "while (a % 2 == 0) and (b % 2 == 0):\n",
    "    a = a // 2\n",
    "    b = b // 2\n",
    "    g = 2 * g\n",
    "\n",
    "u = a; v = b\n",
    "while u != 0:\n",
    "    while (u % 2 == 0):\n",
    "        u = u // 2\n",
    "    while (v % 2 == 0):\n",
    "        v = v // 2\n",
    "    if u >= v:\n",
    "        u = u - v\n",
    "    else:\n",
    "        v = v - u\n",
    "\n",
    "gcd = g*v\n",
    "print(\"НОД(\", a_0, \", \", b_0, \") = \", gcd, sep='')"
   ]
  },
  {
   "cell_type": "markdown",
   "id": "cc881d8c",
   "metadata": {},
   "source": [
    "# Расширенный алгоритм Евклида"
   ]
  },
  {
   "cell_type": "code",
   "execution_count": 12,
   "id": "bf7c8233",
   "metadata": {},
   "outputs": [
    {
     "name": "stdout",
     "output_type": "stream",
     "text": [
      "48\n",
      "36\n",
      "-1\n",
      "12\n",
      "НОД(48, 36) = 12\n",
      "x = 1\n",
      "y = -1\n",
      "ax + by = 12\n"
     ]
    }
   ],
   "source": [
    "a = int(input())\n",
    "b = int(input())\n",
    "gcd = -1\n",
    "x = -1\n",
    "y = -1\n",
    "\n",
    "r_0 = a; r_1 = b; \n",
    "x_0 = 1; x_1 = 0\n",
    "y_0 = 0; y_1 = 1\n",
    "r_2 = -1; q = -1; x_2 = -1; y_2 = -1\n",
    "\n",
    "while r_2 != 0:\n",
    "    print(r_2)\n",
    "    gcd = r_2\n",
    "    x = x_2\n",
    "    y = y_2\n",
    "    r_2 = r_0 % r_1\n",
    "    q = r_0 // r_1\n",
    "    x_2 = x_0 - q * x_1\n",
    "    y_2 = y_0 - q * y_1\n",
    "    r_0 = r_1\n",
    "    r_1 = r_2\n",
    "\n",
    "print(\"НОД(\", a, \", \", b, \") = \", gcd, sep='')\n",
    "print(\"x =\", x)\n",
    "print(\"y =\", y)\n",
    "print(\"ax + by =\", a*x+b*y)"
   ]
  },
  {
   "cell_type": "markdown",
   "id": "8da371f7",
   "metadata": {},
   "source": [
    "# Расширенный бинарный алгоритм Евклида"
   ]
  },
  {
   "cell_type": "code",
   "execution_count": 13,
   "id": "065c3b05",
   "metadata": {},
   "outputs": [
    {
     "name": "stdout",
     "output_type": "stream",
     "text": [
      "48\n",
      "36\n",
      "НОД(48, 36) = 12\n",
      "x = 1\n",
      "y = -1\n",
      "ax + by = 12\n"
     ]
    }
   ],
   "source": [
    "a_0 = int(input())\n",
    "b_0 = int(input())\n",
    "gcd = -1\n",
    "x = -1\n",
    "y = -1\n",
    "\n",
    "a = a_0\n",
    "b = b_0\n",
    "g = 1\n",
    "while (a % 2 == 0) and (b % 2 == 0):\n",
    "    a = a // 2\n",
    "    b = b // 2\n",
    "    g = 2 * g\n",
    "\n",
    "u = a; v = b\n",
    "A = 1; B = 0; C = 0; D = 1\n",
    "while u != 0:\n",
    "    while (u % 2 == 0):\n",
    "        u = u // 2\n",
    "        if (A % 2 == 0) and (B % 2 == 0):\n",
    "            A = A // 2\n",
    "            B = B // 2\n",
    "        else:\n",
    "            A = (A + b) // 2\n",
    "            B = (B - a) // 2\n",
    "    while (v % 2 == 0):\n",
    "        v = v // 2\n",
    "        if (C % 2 == 0) and (D % 2 == 0):\n",
    "            C = C // 2\n",
    "            D = D // 2\n",
    "        else:\n",
    "            C = (C + b) // 2\n",
    "            D = (D - a) // 2\n",
    "    if u >= v:\n",
    "        u = u - v\n",
    "        A = A - C\n",
    "        B = B - D\n",
    "    else:\n",
    "        v = v - u\n",
    "        C = C - A\n",
    "        D = D - B\n",
    "\n",
    "gcd = g*v\n",
    "x = C\n",
    "y = D\n",
    "print(\"НОД(\", a_0, \", \", b_0, \") = \", gcd, sep='')\n",
    "print(\"x =\", x)\n",
    "print(\"y =\", y)\n",
    "print(\"ax + by =\", a_0*x+b_0*y)"
   ]
  },
  {
   "cell_type": "code",
   "execution_count": null,
   "id": "12ada0d0",
   "metadata": {},
   "outputs": [],
   "source": []
  }
 ],
 "metadata": {
  "kernelspec": {
   "display_name": "Python 3 (ipykernel)",
   "language": "python",
   "name": "python3"
  },
  "language_info": {
   "codemirror_mode": {
    "name": "ipython",
    "version": 3
   },
   "file_extension": ".py",
   "mimetype": "text/x-python",
   "name": "python",
   "nbconvert_exporter": "python",
   "pygments_lexer": "ipython3",
   "version": "3.8.8"
  }
 },
 "nbformat": 4,
 "nbformat_minor": 5
}
