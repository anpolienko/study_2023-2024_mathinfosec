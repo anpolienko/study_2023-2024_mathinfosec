{
 "cells": [
  {
   "cell_type": "code",
   "execution_count": 22,
   "id": "134faf41",
   "metadata": {},
   "outputs": [
    {
     "name": "stdout",
     "output_type": "stream",
     "text": [
      "79 4 2 56 5 3\n",
      "27 4 3 75 5 5\n",
      "56 5 3 3 5 7\n",
      "53 5 4 86 7 7\n",
      "75 5 5 42 8 8\n",
      "92 5 6 23 9 9\n",
      "3 5 7 53 11 9\n",
      "30 6 7 92 11 11\n",
      "86 7 7 30 12 12\n",
      "47 7 8 47 13 13\n",
      "x = 20\n"
     ]
    }
   ],
   "source": [
    "def f(x, u, v):\n",
    "    if x < 53:\n",
    "        return (10 * x) % 107, u + 1, v\n",
    "    return (64 * x) % 107, u, v + 1\n",
    "\n",
    "p = 107\n",
    "a = 10\n",
    "b = 64\n",
    "r = 53\n",
    "u = 2; v = 2\n",
    "u_c = 2; v_c = 2\n",
    "u_d = 2; v_d = 2\n",
    "\n",
    "c = ((a ** u) * (b ** v)) % p\n",
    "d = c\n",
    "\n",
    "c, u_c, v_c = f(c, u_c, v_c)\n",
    "d, u_d, v_d = f(f(d, u_d, v_d)[0], f(d, u_d, v_d)[1], f(d, u_d, v_d)[2])\n",
    "\n",
    "while c % p != d % p:\n",
    "    c, u_c, v_c = f(c, u_c, v_c)\n",
    "    d, u_d, v_d = f(f(d, u_d, v_d)[0], f(d, u_d, v_d)[1], f(d, u_d, v_d)[2])\n",
    "    print(c, u_c, v_c, d, u_d, v_d)\n",
    "\n",
    "x = 1\n",
    "while (u_c + v_c * x) % r != (u_d + v_d * x) % r:\n",
    "    x += 1\n",
    "\n",
    "print(\"x =\", x)"
   ]
  },
  {
   "cell_type": "code",
   "execution_count": null,
   "id": "6b1248a0",
   "metadata": {},
   "outputs": [],
   "source": []
  }
 ],
 "metadata": {
  "kernelspec": {
   "display_name": "Python 3 (ipykernel)",
   "language": "python",
   "name": "python3"
  },
  "language_info": {
   "codemirror_mode": {
    "name": "ipython",
    "version": 3
   },
   "file_extension": ".py",
   "mimetype": "text/x-python",
   "name": "python",
   "nbconvert_exporter": "python",
   "pygments_lexer": "ipython3",
   "version": "3.8.8"
  }
 },
 "nbformat": 4,
 "nbformat_minor": 5
}
